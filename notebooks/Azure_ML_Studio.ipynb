{
 "cells": [
  {
   "cell_type": "markdown",
   "metadata": {},
   "source": [
    "# Heart of Helsinki using MS Azure tools"
   ]
  },
  {
   "cell_type": "markdown",
   "metadata": {},
   "source": [
    "### Import needed libraries"
   ]
  },
  {
   "cell_type": "code",
   "execution_count": null,
   "metadata": {},
   "outputs": [],
   "source": [
    "import numpy as np\n",
    "import pandas as pd\n",
    "import matplotlib.pyplot as plt\n",
    "import seaborn as sns\n",
    "from pandas.io.json import json_normalize\n",
    "import time\n",
    "from datetime import date\n",
    "import datetime\n",
    "from fbprophet import Prophet"
   ]
  },
  {
   "cell_type": "markdown",
   "metadata": {},
   "source": [
    "### Load preprocessed history data"
   ]
  },
  {
   "cell_type": "code",
   "execution_count": null,
   "metadata": {},
   "outputs": [],
   "source": [
    "test = pd.read_csv('serial_nunique_final.csv')\n",
    "test.head()\n",
    "test['ds'] = pd.to_datetime(test['date']) + pd.to_timedelta(test['hour'], unit='h')\n",
    "test['y'] = test['nunique']\n",
    "test.head()"
   ]
  },
  {
   "cell_type": "markdown",
   "metadata": {},
   "source": [
    "### Do predictions using prophet"
   ]
  },
  {
   "cell_type": "code",
   "execution_count": null,
   "metadata": {},
   "outputs": [],
   "source": [
    "prediction_results = pd.DataFrame(columns=['serial','timestamp','hour','nunique','type'])\n",
    "for i in test['serial'].unique():\n",
    "    temp = pd.DataFrame()\n",
    "    filtered = test[test['serial']==i]            \n",
    "    \n",
    "    m = Prophet()\n",
    "    m.fit(filtered);\n",
    "     \n",
    "    future = m.make_future_dataframe(periods=24,freq='H')              \n",
    "    forecast = m.predict(future)\n",
    "    \n",
    "    temp['timestamp'] = forecast['ds']\n",
    "    temp['serial'] = i\n",
    "    temp['type'] = 'history'\n",
    "    temp.iloc[-24:, temp.columns.get_loc('type')] = 'prediction'\n",
    "    temp['hour'] = temp['timestamp'].dt.hour\n",
    "    temp['nunique'] = forecast['yhat']\n",
    "    \n",
    "    prediction_results = prediction_results.append(temp)"
   ]
  },
  {
   "cell_type": "markdown",
   "metadata": {},
   "source": [
    "### Save new data with forecasts included"
   ]
  },
  {
   "cell_type": "code",
   "execution_count": null,
   "metadata": {},
   "outputs": [],
   "source": [
    "# One station has missing values, filtering forecasts that are in the past:\n",
    "prediction_results = (prediction_results[~((prediction_results['timestamp'] < datetime.date(2019,8,17)) & (prediction_results['type']=='prediction'))])\n",
    "\n",
    "prediction_results.to_csv('prediction_results.csv')"
   ]
  },
  {
   "cell_type": "code",
   "execution_count": null,
   "metadata": {},
   "outputs": [],
   "source": [
    "datastore = ws.get_default_datastore()\n",
    "datastore.upload_files(files = ['./prediction_results.csv'],\n",
    "                       target_path = 'train-dataset/tabular/',\n",
    "                       overwrite = True,\n",
    "                       show_progress = True)"
   ]
  }
 ],
 "metadata": {
  "kernelspec": {
   "display_name": "Python 3.6",
   "language": "python",
   "name": "python36"
  },
  "language_info": {
   "codemirror_mode": {
    "name": "ipython",
    "version": 3
   },
   "file_extension": ".py",
   "mimetype": "text/x-python",
   "name": "python",
   "nbconvert_exporter": "python",
   "pygments_lexer": "ipython3",
   "version": "3.6.6"
  }
 },
 "nbformat": 4,
 "nbformat_minor": 1
}
